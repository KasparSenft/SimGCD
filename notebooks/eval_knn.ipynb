{
 "cells": [
  {
   "cell_type": "code",
   "execution_count": 2,
   "metadata": {},
   "outputs": [
    {
     "name": "stdout",
     "output_type": "stream",
     "text": [
      "/export/kaspar/SimGCD\n"
     ]
    }
   ],
   "source": [
    "cd .."
   ]
  },
  {
   "cell_type": "code",
   "execution_count": 3,
   "metadata": {},
   "outputs": [],
   "source": [
    "import argparse\n",
    "import torch\n",
    "from data.get_datasets import get_datasets, get_class_splits\n",
    "\n",
    "\n",
    "\n",
    "\n",
    "def get_args(dataset = 'cifar100'):\n",
    "    parser = argparse.ArgumentParser(description='cluster', formatter_class=argparse.ArgumentDefaultsHelpFormatter)\n",
    "    parser.add_argument('--batch_size', default=128, type=int)\n",
    "    parser.add_argument('--num_workers', default=8, type=int)\n",
    "    parser.add_argument('--eval_funcs', nargs='+', help='Which eval functions to use', default=['v2', 'v2p'])\n",
    "\n",
    "    parser.add_argument('--warmup_model_dir', type=str, default=None)\n",
    "    parser.add_argument('--dataset_name', type=str, default=dataset, help='options: cifar10, cifar100, imagenet_100, cub, scars, fgvc_aricraft, herbarium_19')\n",
    "    parser.add_argument('--prop_train_labels', type=float, default=0.5)\n",
    "    parser.add_argument('--use_ssb_splits', action='store_true', default=True)\n",
    "\n",
    "    parser.add_argument('--grad_from_block', type=int, default=11)\n",
    "    parser.add_argument('--lr', type=float, default=0.1)\n",
    "    parser.add_argument('--gamma', type=float, default=0.1)\n",
    "    parser.add_argument('--momentum', type=float, default=0.9)\n",
    "    parser.add_argument('--weight_decay', type=float, default=1e-4)\n",
    "    parser.add_argument('--epochs', default=200, type=int)\n",
    "    parser.add_argument('--exp_root', type=str, default=None)\n",
    "    parser.add_argument('--transform', type=str, default='imagenet')\n",
    "    parser.add_argument('--sup_weight', type=float, default=0.35)\n",
    "    parser.add_argument('--n_views', default=2, type=int)\n",
    "    \n",
    "    parser.add_argument('--memax_weight', type=float, default=2)\n",
    "    parser.add_argument('--warmup_teacher_temp', default=0.07, type=float, help='Initial value for the teacher temperature.')\n",
    "    parser.add_argument('--teacher_temp', default=0.04, type=float, help='Final value (after linear warmup)of the teacher temperature.')\n",
    "    parser.add_argument('--warmup_teacher_temp_epochs', default=30, type=int, help='Number of warmup epochs for the teacher temperature.')\n",
    "\n",
    "    parser.add_argument('--fp16', action='store_true', default=False)\n",
    "    parser.add_argument('--print_freq', default=10, type=int)\n",
    "    parser.add_argument('--exp_name', default=None, type=str)\n",
    "\n",
    "    \"\"\"\n",
    "    Size of Memory Queue\n",
    "    \"\"\"\n",
    "    parser.add_argument('--mem_queue', type=bool, default=False, help='whether to use the memory queue')\n",
    "    parser.add_argument('--mem_q_size', type=int, default= 32768, help='How many images to store in the queue size')\n",
    "    parser.add_argument('--mem_p', type=float, default = 0., help='Probability of selecting the memory queue element instead of the other view')\n",
    "    parser.add_argument('--mem_direct_knn', type=bool, default = False, help='If true, the KNN queue will be the first view, if false the second')\n",
    "\n",
    "    \"\"\"\n",
    "    Static KNN\n",
    "    \"\"\"\n",
    "    parser.add_argument('--static_knn', type=bool, default=False)\n",
    "\n",
    "    # ----------------------\n",
    "    # INIT\n",
    "    # ----------------------\n",
    "    args = parser.parse_args('')\n",
    "    args = get_class_splits(args)\n",
    "\n",
    "    args.num_labeled_classes = len(args.train_classes)\n",
    "    args.num_unlabeled_classes = len(args.unlabeled_classes)\n",
    "\n",
    "\n",
    "    # ----------------------\n",
    "    # BASE MODEL\n",
    "    # ----------------------\n",
    "    args.interpolation = 3\n",
    "    args.crop_pct = 0.875\n",
    "    \n",
    "    # NOTE: Hardcoded image size as we do not finetune the entire ViT model\n",
    "    args.image_size = 224\n",
    "    args.feat_dim = 768\n",
    "    args.num_mlp_layers = 3\n",
    "    args.mlp_out_dim = args.num_labeled_classes + args.num_unlabeled_classes\n",
    "\n",
    "\n",
    "    args.eval_funcs = ['v2']\n",
    "    \n",
    "    return args\n",
    "\n",
    "a = get_args()"
   ]
  },
  {
   "cell_type": "code",
   "execution_count": 5,
   "metadata": {},
   "outputs": [
    {
     "name": "stderr",
     "output_type": "stream",
     "text": [
      "Using cache found in /export/kaspar/.cache/torch/hub/facebookresearch_dino_main\n"
     ]
    },
    {
     "data": {
      "text/plain": [
       "<All keys matched successfully>"
      ]
     },
     "execution_count": 5,
     "metadata": {},
     "output_type": "execute_result"
    }
   ],
   "source": [
    "from model import DINOHead\n",
    "from torch import nn\n",
    "\n",
    "def get_model(args):\n",
    "    backbone = torch.hub.load('facebookresearch/dino:main', 'dino_vitb16')\n",
    "    projector = DINOHead(in_dim=args.feat_dim, out_dim=args.mlp_out_dim, nlayers=args.num_mlp_layers)\n",
    "\n",
    "    return nn.Sequential(backbone, projector)\n",
    "\n",
    "args = get_args()\n",
    "base_model = get_model(args)\n",
    "ckpt = torch.load('/export/kaspar/SimGCD/experiments/dev_outputs_block10/simgcd/log/exp/checkpoints/model.pt')['model']\n",
    "\n",
    "base_model.load_state_dict(ckpt)"
   ]
  },
  {
   "cell_type": "code",
   "execution_count": 7,
   "metadata": {},
   "outputs": [
    {
     "name": "stderr",
     "output_type": "stream",
     "text": [
      "/export/kaspar/miniconda3/envs/gcd/lib/python3.7/site-packages/torchvision/transforms/transforms.py:288: UserWarning: Argument interpolation should be of type InterpolationMode instead of int. Please, use InterpolationMode enum.\n",
      "  \"Argument interpolation should be of type InterpolationMode instead of int. \"\n"
     ]
    }
   ],
   "source": [
    "from data.augmentations import get_transform\n",
    "from data.get_datasets import get_datasets, get_class_splits\n",
    "from model import ContrastiveLearningViewGenerator\n",
    "from torch.utils.data import DataLoader\n",
    "\n",
    "train_transform, test_transform = get_transform(args.transform, image_size=args.image_size, args=args)\n",
    "train_transform = ContrastiveLearningViewGenerator(base_transform=train_transform, n_views=args.n_views)\n",
    "# --------------------\n",
    "# DATASETS\n",
    "# --------------------\n",
    "train_dataset, test_dataset, unlabelled_train_examples_test, datasets = get_datasets(args.dataset_name,\n",
    "                                                                                        train_transform,\n",
    "                                                                                        test_transform,\n",
    "                                                                                        args)\n",
    "test_loader_unlabelled = DataLoader(unlabelled_train_examples_test, num_workers=args.num_workers,\n",
    "                                        batch_size=256, shuffle=False, pin_memory=False)"
   ]
  },
  {
   "cell_type": "code",
   "execution_count": 8,
   "metadata": {},
   "outputs": [
    {
     "name": "stderr",
     "output_type": "stream",
     "text": [
      "  0%|          | 0/118 [00:00<?, ?it/s]"
     ]
    },
    {
     "name": "stderr",
     "output_type": "stream",
     "text": [
      "100%|██████████| 118/118 [06:21<00:00,  3.23s/it]\n"
     ]
    },
    {
     "data": {
      "text/plain": [
       "(0.2156, 0.2155, 0.2158)"
      ]
     },
     "execution_count": 8,
     "metadata": {},
     "output_type": "execute_result"
    }
   ],
   "source": [
    "from train import test\n",
    "\n",
    "base_model = base_model.cuda()\n",
    "\n",
    "test(base_model, test_loader_unlabelled, 0, 'block10', args)"
   ]
  }
 ],
 "metadata": {
  "kernelspec": {
   "display_name": "gcd",
   "language": "python",
   "name": "python3"
  },
  "language_info": {
   "codemirror_mode": {
    "name": "ipython",
    "version": 3
   },
   "file_extension": ".py",
   "mimetype": "text/x-python",
   "name": "python",
   "nbconvert_exporter": "python",
   "pygments_lexer": "ipython3",
   "version": "3.7.16"
  }
 },
 "nbformat": 4,
 "nbformat_minor": 2
}
